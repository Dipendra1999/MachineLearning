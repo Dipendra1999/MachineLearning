{
 "cells": [
  {
   "cell_type": "markdown",
   "id": "c140eb80",
   "metadata": {},
   "source": [
    " stocastic Gradient Descent Regressor(SGDRegressor()) method in linear_regresion can be used as online Machine Learning and It's method partial_fit() can be used to train ML model partially with less data."
   ]
  },
  {
   "cell_type": "code",
   "execution_count": 1,
   "id": "1b967bae",
   "metadata": {},
   "outputs": [],
   "source": [
    "import numpy as np \n",
    "from sklearn import linear_model\n"
   ]
  },
  {
   "cell_type": "code",
   "execution_count": 5,
   "id": "585c623e",
   "metadata": {},
   "outputs": [],
   "source": [
    "n_samples, n_features=1, 5000"
   ]
  },
  {
   "cell_type": "code",
   "execution_count": 7,
   "id": "d947263d",
   "metadata": {},
   "outputs": [
    {
     "name": "stdout",
     "output_type": "stream",
     "text": [
      "[[ 0.54796092 -0.14146216  0.87474228 ...  0.34253423  1.52790095\n",
      "   1.71801137]]\n"
     ]
    }
   ],
   "source": [
    "y=np.random.randn(n_samples)\n",
    "X=np.random.randn(n_samples,n_features)\n",
    "print(X)"
   ]
  },
  {
   "cell_type": "code",
   "execution_count": 9,
   "id": "d44148a5",
   "metadata": {},
   "outputs": [
    {
     "data": {
      "text/plain": [
       "(1, 5000)"
      ]
     },
     "execution_count": 9,
     "metadata": {},
     "output_type": "execute_result"
    }
   ],
   "source": [
    "X.shape\n"
   ]
  },
  {
   "cell_type": "code",
   "execution_count": 10,
   "id": "f0a2558d",
   "metadata": {},
   "outputs": [],
   "source": [
    "clf=linear_model.SGDRegressor()\n"
   ]
  },
  {
   "cell_type": "code",
   "execution_count": 11,
   "id": "2af8a8f5",
   "metadata": {},
   "outputs": [],
   "source": [
    "import time"
   ]
  },
  {
   "cell_type": "code",
   "execution_count": 15,
   "id": "bb76507e",
   "metadata": {},
   "outputs": [
    {
     "name": "stdout",
     "output_type": "stream",
     "text": [
      "0.002774477005004883\n"
     ]
    }
   ],
   "source": [
    "start_time=time.time()\n",
    "clf.partial_fit(X,y)\n",
    "elapsed_time=time.time()-start_time\n",
    "print(elapsed_time)"
   ]
  },
  {
   "cell_type": "code",
   "execution_count": null,
   "id": "e17dbe9e",
   "metadata": {},
   "outputs": [],
   "source": []
  }
 ],
 "metadata": {
  "kernelspec": {
   "display_name": "SklearnPro",
   "language": "python",
   "name": "python3"
  },
  "language_info": {
   "codemirror_mode": {
    "name": "ipython",
    "version": 3
   },
   "file_extension": ".py",
   "mimetype": "text/x-python",
   "name": "python",
   "nbconvert_exporter": "python",
   "pygments_lexer": "ipython3",
   "version": "3.13.5"
  }
 },
 "nbformat": 4,
 "nbformat_minor": 5
}
